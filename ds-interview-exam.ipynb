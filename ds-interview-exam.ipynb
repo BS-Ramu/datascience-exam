{
 "cells": [
  {
   "cell_type": "markdown",
   "metadata": {},
   "source": [
    "<div class=\"clearfix\" style=\"padding: 10px; padding-left: 0px\">\n",
    "<a href=\"http://bombora.com\"><img src=\"https://app.box.com/shared/static/e0j9v1xjmubit0inthhgv3llwnoansjp.png\" width=\"200px\" class=\"pull-right\" style=\"display: inline-block; margin: 5px; vertical-align: middle;\"></a>\n",
    "<h1> Bombora Data Science: <br> *Interview Exam* </h1>\n",
    "</div>\n",
    "\n",
    "<img width=\"200px\" src=\"https://app.box.com/shared/static/15slg1mvjd1zldbg3xkj9picjkmhzpa5.png\">"
   ]
  },
  {
   "cell_type": "markdown",
   "metadata": {},
   "source": [
    "---\n",
    "# Welcome\n",
    "\n",
    "Welcome! This notebook contains interview exam questions referenced in the *Instructions* section in the `README.md`—please read that first, *before* attempting to answer questions here.\n",
    "\n",
    "<div class=\"alert alert-info\" role=\"alert\" style=\"margin: 10px\">\n",
    "<p style=\"font-weight:bold\">ADVICE</p>\n",
    "<p>*Do not* read these questions, and panic, *before* reading the instructions in `README.md`.</p>\n",
    "</div>\n",
    "\n",
    "<div class=\"alert alert-warning\" role=\"alert\" style=\"margin: 10px\">\n",
    "<p style=\"font-weight:bold\">WARNING</p>\n",
    "\n",
    "<p>If using <a href=\"https://try.jupyter.org\">try.jupyter.org</a> do not rely on the server for anything you want to last - your server will be <span style=\"font-weight:bold\">deleted after 10 minutes of inactivity</span>. Save often and rember download notebook when you step away (you can always re-upload and start again)!</p>\n",
    "</div>\n",
    "\n",
    "\n",
    "## Have fun!\n",
    "\n",
    "Regardless of outcome, getting to know you is important. Give it your best shot and we'll look forward to following up!"
   ]
  },
  {
   "cell_type": "markdown",
   "metadata": {},
   "source": [
    "# Exam Questions"
   ]
  },
  {
   "cell_type": "markdown",
   "metadata": {},
   "source": [
    "## 1. Algo + Data Structures"
   ]
  },
  {
   "cell_type": "markdown",
   "metadata": {},
   "source": [
    "### Q 1.1: Fibionacci\n",
    "![fib image](https://upload.wikimedia.org/wikipedia/commons/thumb/9/93/Fibonacci_spiral_34.svg/200px-Fibonacci_spiral_34.svg.png)"
   ]
  },
  {
   "cell_type": "markdown",
   "metadata": {},
   "source": [
    "#### Q 1.1.1\n",
    "Given $n$ where $n \\in \\mathbb{N}$ (i.e., $n$ is an integer and $n > 0$), write a function `fibonacci(n)` that computes the Fibonacci number $F_n$, where $F_n$ is defined by the recurrence relation:\n",
    "\n",
    "$$ F_n = F_{n-1} + F_{n-2}$$\n",
    "\n",
    "with initial conditions of:\n",
    "\n",
    "$$ F_1 = 1,  F_2 = 1$$"
   ]
  },
  {
   "cell_type": "code",
   "execution_count": 36,
   "metadata": {},
   "outputs": [
    {
     "name": "stdout",
     "output_type": "stream",
     "text": [
      "fibonacci of 3 is  2\n",
      "fibonacci of 5 is  5\n",
      "fibonacci of 10 is  55\n"
     ]
    }
   ],
   "source": [
    "#Answer using Recusrrsion \n",
    "\n",
    "class fibonacci:\n",
    "    def computefibonacci(self, n: int) ->int:\n",
    "        \"\"\"\n",
    "        This function computes nth number in the fibonacci series using recurrsion.\n",
    "        param n: integer number \n",
    "        return: nth integer number in the fibonacci series \n",
    "        \"\"\"\n",
    "        try:\n",
    "            #given condition n>0\n",
    "            if n == 0:                                                                   \n",
    "                print(\"n should be greater then  0\")  \n",
    "            # Initial conditions f1 =1 and f2 =1     \n",
    "            elif n <= 2:                                                                  \n",
    "                return 1\n",
    "            else:\n",
    "                return self.computefibonacci(n-1) +  self.computefibonacci(n-2)\n",
    "        except Exception as e:\n",
    "            print(e)\n",
    "            \n",
    "\n",
    "if __name__ == \"__main__\":\n",
    "    f = fibonacci()\n",
    "    print(\"fibonacci of 3 is \",f.computefibonacci(3))\n",
    "    print(\"fibonacci of 5 is \",f.computefibonacci(5))\n",
    "    print(\"fibonacci of 10 is \",f.computefibonacci(10))"
   ]
  },
  {
   "cell_type": "markdown",
   "metadata": {},
   "source": [
    "#### Q 1.1.2\n",
    "What's the complexity of your implementation?"
   ]
  },
  {
   "cell_type": "markdown",
   "metadata": {},
   "source": [
    "The time complexity of the above implementation would be O(2^n).\n",
    "But each leaf node will run only one unit of time as base case are just one units, so time complexity would be little less then the 2^n , it will be around (1.62)^n\n",
    "\n"
   ]
  },
  {
   "attachments": {
    "image.png": {
     "image/png": "[encoded data removed]"
    }
   },
   "cell_type": "markdown",
   "metadata": {},
   "source": [
    "Tree representation of F(3)\n",
    "\n",
    "![image.png](attachment:image.png)"
   ]
  },
  {
   "cell_type": "markdown",
   "metadata": {},
   "source": [
    "#### Q 1.1.3\n",
    "Consider an alternative implementation to compute Fibonacci number $F_n$ and write a new function, `fibonacci2(n)`."
   ]
  },
  {
   "cell_type": "code",
   "execution_count": 37,
   "metadata": {},
   "outputs": [
    {
     "name": "stdout",
     "output_type": "stream",
     "text": [
      "fibonacci of 3 is  2\n",
      "fibonacci of 5 is  5\n",
      "fibonacci of 10 is  55\n"
     ]
    }
   ],
   "source": [
    "class fibonaccidynamic:\n",
    "    def computefibonacci(self, n: int) ->int:\n",
    "        \"\"\"\n",
    "        This function computes nth number in the fibonacci series using Dynamic Programming.\n",
    "        param n: integer number \n",
    "        return: nth integer number in the fibonacci series \n",
    "        \"\"\"\n",
    "        try:\n",
    "            # intialising DP array\n",
    "            f =[0]*(n+1) \n",
    "            #Base Cases\n",
    "            f[1] = 1\n",
    "            f[2] = 1\n",
    "            i=3 \n",
    "            while i <= n:\n",
    "                #computing ith fibonacci number with previously computed values.\n",
    "                f[i] = f[i-1] + f[i-2]\n",
    "                i+=1\n",
    "            return f[n] \n",
    "        except Exception as e:\n",
    "            print(e)\n",
    "        \n",
    "if __name__ == \"__main__\":\n",
    "    f = fibonaccidynamic()\n",
    "    print(\"fibonacci of 3 is \",f.computefibonacci(3))\n",
    "    print(\"fibonacci of 5 is \",f.computefibonacci(5))\n",
    "    print(\"fibonacci of 10 is \",f.computefibonacci(10))"
   ]
  },
  {
   "cell_type": "markdown",
   "metadata": {},
   "source": [
    "#### Q 1.1.4\n",
    "What's the complexity of your implementation?"
   ]
  },
  {
   "cell_type": "markdown",
   "metadata": {},
   "source": [
    "## Answer\n",
    "\n",
    "Time Complexity of the given implementation would be O(n) as we are looping through for n times and space complexity would be S(n) as we are saving computed value in the array."
   ]
  },
  {
   "cell_type": "markdown",
   "metadata": {},
   "source": [
    "#### Q 1.1.5\n",
    "What are some examples of optimizations that could improve computational performance?\n"
   ]
  },
  {
   "cell_type": "markdown",
   "metadata": {},
   "source": [
    "## Answer\n",
    "\n",
    "if we have the range of number we posssibaly want we can precompute and store them and each time we want to access we can retrive it using O(1) time complexity"
   ]
  },
  {
   "cell_type": "markdown",
   "metadata": {},
   "source": [
    "### Q 1.2: Linked List\n",
    "![ll img](https://upload.wikimedia.org/wikipedia/commons/thumb/6/6d/Singly-linked-list.svg/500px-Singly-linked-list.svg.png)"
   ]
  },
  {
   "cell_type": "markdown",
   "metadata": {},
   "source": [
    "#### Q 1.2.1\n",
    "Consider a [singly linked list](https://en.wikipedia.org/wiki/Linked_list), $L$. Write a function `is_palindrome(L)` that detects if $L$ is a [palindrome](https://en.wikipedia.org/wiki/Palindrome), by returning a bool, `True` or `False`.\n"
   ]
  },
  {
   "cell_type": "markdown",
   "metadata": {},
   "source": [
    "#### Q 1.2.2\n",
    "What is the complexity of your implementation?"
   ]
  },
  {
   "cell_type": "markdown",
   "metadata": {},
   "source": [
    "#### Q 1.2.3\n",
    "Consider an alternative implementation to detect if L is a palindrome and write a new function, `is_palindrome2(L)`."
   ]
  },
  {
   "cell_type": "markdown",
   "metadata": {},
   "source": [
    "#### Q 1.2.4\n",
    "What's the complexity of this implementation?\n"
   ]
  },
  {
   "cell_type": "markdown",
   "metadata": {},
   "source": [
    "#### Q 1.2.5 \n",
    "What are some examples of optimizations that could improve computational performance?\n"
   ]
  },
  {
   "cell_type": "markdown",
   "metadata": {},
   "source": [
    "## 2. Prob + Stats"
   ]
  },
  {
   "cell_type": "markdown",
   "metadata": {},
   "source": [
    "### Q 2.1: Finding $\\pi$ in a random uniform?\n",
    "<img src=https://www.epicurus.com/food/recipes/wp-content/uploads/2015/03/Pi-Day.jpg width=\"480\">\n",
    "\n",
    "Given a uniform random generator $[0,1)$ (e.g., use your language's standard libary to generate random value), write a a function `compute_pi` to compute [$\\pi$](https://en.wikipedia.org/wiki/Pi)."
   ]
  },
  {
   "cell_type": "markdown",
   "metadata": {},
   "source": [
    "### Q 2.2: Making a 6-side die roll a 7?\n",
    "\n",
    "Using a single 6-side die, how can you generate a random number between 1 - 7?"
   ]
  },
  {
   "cell_type": "code",
   "execution_count": 47,
   "metadata": {},
   "outputs": [
    {
     "name": "stdout",
     "output_type": "stream",
     "text": [
      "{1, 2, 3, 4, 5, 6, 7}\n"
     ]
    }
   ],
   "source": [
    "import random\n",
    "class random1:\n",
    "    def ComputeRandomNumber(self) ->int:\n",
    "        \"\"\"\n",
    "        This function enerates a random number by throwing a fair dice twice.\n",
    "        param n: integer number \n",
    "        return:  random integer generated \n",
    "        \"\"\"\n",
    "        #all possible values of rolling a die\n",
    "        possible_values = [1,2,3,4,5,6]    \n",
    "        #Rolling the Dice twice \n",
    "        roll1 = random.choice(possible_values)\n",
    "        roll2 = random.choice(possible_values)\n",
    "        # if we get the sum of 2 rolls greater then 7 we will take the mod of 7 as our random number\n",
    "        if (roll1 + roll2) > 7:\n",
    "            rand = (roll1 + roll2) % 7\n",
    "        else:\n",
    "        # if the sum is less then 7 we will take the sum as our random number\n",
    "            rand = (roll1 + roll2)\n",
    "        return rand    \n",
    "        \n",
    "if __name__ == \"__main__\":      \n",
    "    rands =[]\n",
    "    r = random1()\n",
    "    for i in range(100):\n",
    "        rands.append(r.ComputeRandomNumber())\n",
    "    #see if random numbers are between 1 and 7\n",
    "    print(set(rands))"
   ]
  },
  {
   "cell_type": "markdown",
   "metadata": {},
   "source": [
    "The Idea is to Roll the Dice twice.\n",
    "    * take the sum of the  rolls.\n",
    "    * if the sum is greater then 7 take mod 7 of the sum.\n",
    "    * if the sum is less then or equal to 7 then keep the sum as the random number."
   ]
  },
  {
   "cell_type": "markdown",
   "metadata": {},
   "source": [
    "### Q 2.3: Is normality uniform?\n",
    "\n",
    "<img src=https://rednaxela1618.files.wordpress.com/2014/06/uniformnormal.png width=\"480\">\n",
    "\n",
    "\n",
    "Given draws from a normal distribution with known parameters, how can you simulate draws from a uniform distribution?"
   ]
  },
  {
   "cell_type": "markdown",
   "metadata": {},
   "source": [
    "### Q 2.4: Should you pay or should you go?\n",
    "\n",
    "![coin flip](https://lh5.ggpht.com/iwD6MnHeHVAXNBgrO7r4N9MQxxYi6wT9vb0Mqu905zTnNlBciONAA98BqafyjzC06Q=w300)\n",
    "\n",
    "Let’s say we play a game where I keep flipping a coin until I get heads. If the first time I get heads is on the nth coin, then I pay you $2^{(n-1)}$ US dollars. How much would you pay me to play this game? Explain."
   ]
  },
  {
   "cell_type": "markdown",
   "metadata": {},
   "source": [
    "## Answer \n",
    "\n",
    "* The Probabality of getting a head is 50%.\n",
    "* considering i pay 1  to play the game.\n",
    "    * probbabality of winning 2 \\\\$ is 50% ( getting a tail in first flip)\n",
    "    * probabality of winning 4 \\\\$ is 33.33% ( getting tail in both flips)\n",
    "    * the probabality goes on reduces as we go with more flips\n",
    "As the probabality of winning is less the or equal to 50%\n",
    "I wont be paying to play this game."
   ]
  },
  {
   "cell_type": "code",
   "execution_count": 26,
   "metadata": {},
   "outputs": [
    {
     "name": "stdout",
     "output_type": "stream",
     "text": [
      "1\n",
      "2\n",
      "1\n",
      "1\n",
      "1\n",
      "2\n",
      "2\n",
      "1\n",
      "1\n",
      "1\n"
     ]
    }
   ],
   "source": [
    "import random\n",
    "for i in range(10):\n",
    "    print(random.choice([1,2]))"
   ]
  },
  {
   "cell_type": "markdown",
   "metadata": {},
   "source": [
    "### Q 2.5: Uber vs. Lyft\n",
    "\n",
    "![uber vs lyft](http://usiaffinity.typepad.com/.a/6a01347fc1cb08970c01bb0876bcbe970d-pi)\n",
    "\n",
    "You request 2 UberX’s and 3 Lyfts. If the time that each takes to reach you is IID, what is the probability that all the Lyfts arrive first? What is the probability that all the UberX’s arrive first?"
   ]
  },
  {
   "cell_type": "markdown",
   "metadata": {},
   "source": [
    "### Q 2.6: Pick your prize\n",
    "<img src=https://miro.medium.com/max/1100/1*m5b3O9sE68UCXjLw5oxy2g.png width=\"480\">\n",
    "\n",
    "A prize is placed at random behind one of three doors and you are asked to pick a door. To be concrete, say you always pick door 1. Now the game host chooses one of door 2 or 3, opens it and shows you that it is empty. They then give you the option to keep your picked door or switch to the unopened door. Should you stay or switch if you want to maximize your probability of winning the prize?"
   ]
  },
  {
   "cell_type": "markdown",
   "metadata": {},
   "source": [
    "## 3 Conceptual ML"
   ]
  },
  {
   "cell_type": "markdown",
   "metadata": {},
   "source": [
    "### Q 3.1 Why study gradient boosting or neural networks?\n",
    "\n",
    "Consider a regression setting where $X \\in \\mathbb{R}^p$ and $Y \\in \\mathbb{R}$. The goal is to come up with a function $f(X): \\mathbb{R}^p \\rightarrow \\mathbb{R}$ that minimizes the squared-error loss $(Y - f(X))^2$. Since X, Y are random variables, we seek to minimize the expectation of the squared error loss as follows\n",
    "\\begin{equation}\n",
    "EPE(f) = \\mathbb{E}\\left[(Y-f(X)^2\\right]\n",
    "\\end{equation}\n",
    "where EPE stands for expected prediction error. One can show that minimizing the expected prediction error leads to the following _regression function_\n",
    "\\begin{equation}\n",
    "f(x) = \\mathbb{E}\\left[Y|X=x\\right]\n",
    "\\end{equation}\n",
    "\n",
    "The goal of any method is to approximate the regression function above, which we denote as $\\hat{f}(x)$. For example, linear regression explicitly assumes that the regression function is approximately linear in its arguments, i.e. $\\hat{f}(x) = x^T\\beta$ while a neural network provides a nonlinear approximation of the regression function. \n",
    "\n",
    "The simplest of all these methods is [k-nearest neighbors](https://en.wikipedia.org/wiki/K-nearest_neighbors_algorithm). Given $x$ and some neighbourhood of $k$ points $N_k(x)$, $\\hat{f}(x)$ is simply the average of all $y_i|x_i \\in N_k(x)$.  Let $N$ denote the training sample size. Under mild regularity conditions on the joint probability distribution $Pr(X, Y)$, one can show that as $N \\rightarrow \\infty$, $k \\rightarrow \\infty$ such that $k/N \\rightarrow 0$, then $\\hat{f}(x) \\rightarrow f(x)$ where $\\rightarrow$ means approaches or goes to. In other words, the k-nearest neighbors algorithm converges to the ideal solution as both the training sample size and number of neighbors increase to infinity.\n",
    "\n",
    "Now given this _universal approximator_, why look any further and research other methods? Please share your thoughts.\n"
   ]
  },
  {
   "cell_type": "markdown",
   "metadata": {},
   "source": [
    "### Q 3.2 Model Selection and Assesment\n",
    "\n",
    "Consider a multiclass classification problem with a large number of features $p >> N$, for e.g $p=10000, N=100$ The task is threefold\n",
    "1. Find a \"good\" subset of features that show strong _univariate_ correlation with class labels\n",
    "2. Using the \"good\" subset, build a multi class classifier\n",
    "3. Estimate the generalization error of the final model\n",
    "\n",
    "Given this dataset, outline your approach and please be sure to cover the following\n",
    "- Data splitting\n",
    "- Model Selection: either estimating the performance of different classifiers or the same classifier with different hyperparameters\n",
    "- Model Assessment: having chosen a classifier, estimating the generalization error\n",
    "\n",
    "Assume all features are numerical, the dataset contains no NULLS, outliers, etc. and doesn't require any preprocessing.\n",
    "\n"
   ]
  },
  {
   "cell_type": "markdown",
   "metadata": {},
   "source": [
    "## Answer\n",
    "\n",
    "Subset of Features:- \n",
    "    * we can select the subset of features that show strong univariate correlation with class labels using statistical methods some of the methods are F-test and mutual information.\n",
    "    * F-test fails to capture non linear relationships where as mutual information will capture the non linear relation between the \n",
    "    \n",
    "    Mutual information :\n",
    "        * if y(target) variable is a function of y then Mutual information will be highest.\n",
    "        * if y(target) variable is independent then it will be zero.\n",
    "        * if not of either case the it will be between 0 and 1.\n",
    "        * we will get the features with higher value of mutual information.\n",
    "    \n",
    "    we can use another method which uses similar technique where in we can train decision tree with all the avilable features and take feature importance based on information gain.\n",
    "\n",
    "Data Splitting:\n",
    "    \n",
    "    Since it is a Multi Label classification problem we can split the data using stratified sampling , as we can contain the distribution of the classes same across Train and Test Data.\n",
    "    \n",
    "Model selection:\n",
    "    \n",
    "    Since it is a multi class classification, algorithms like svm,logisti regression can be extendented to multiclass set up but tree based algorithms will likely do better and we can also try naive baise as our base model to compare the performance.\n",
    "    \n",
    "    * Models :- Random forest, xgboost, lGBM\n",
    "    * Main parameters to tune:- depth,number of estimators, split of features and columns, xgboost(learning rate,minimum loss reduction)\n",
    "    \n",
    "    \n",
    "Model Assessment:\n",
    "\n",
    "    * we can draw confusion metrics so we can know how the model is performing for each class label.\n",
    "    * we can use f1 score as metric if we want a single value for assesing our model as f1 score works for imbalanced dataset and in real word most of the data will be imbalanced.\n",
    "    * As this is a multiclass setup we can use micro averaged or macro averaged f1 score.\n",
    "    \n",
    "    \n",
    "    "
   ]
  },
  {
   "cell_type": "code",
   "execution_count": null,
   "metadata": {},
   "outputs": [],
   "source": []
  }
 ],
 "metadata": {
  "kernelspec": {
   "display_name": "Python 3",
   "language": "python",
   "name": "python3"
  },
  "language_info": {
   "codemirror_mode": {
    "name": "ipython",
    "version": 3
   },
   "file_extension": ".py",
   "mimetype": "text/x-python",
   "name": "python",
   "nbconvert_exporter": "python",
   "pygments_lexer": "ipython3",
   "version": "3.6.8"
  }
 },
 "nbformat": 4,
 "nbformat_minor": 2
}
